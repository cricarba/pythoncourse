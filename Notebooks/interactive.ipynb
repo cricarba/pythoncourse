{
  "cells": [
    {
      "metadata": {
        "trusted": true
      },
      "cell_type": "code",
      "source": "!pip install ipywidgets",
      "execution_count": 1,
      "outputs": [
        {
          "output_type": "stream",
          "text": "Requirement already satisfied: ipywidgets in /home/nbuser/anaconda3_501/lib/python3.6/site-packages (7.5.1)\nRequirement already satisfied: ipython>=4.0.0; python_version >= \"3.3\" in /home/nbuser/anaconda3_501/lib/python3.6/site-packages (from ipywidgets) (7.1.1)\nRequirement already satisfied: widgetsnbextension~=3.5.0 in /home/nbuser/anaconda3_501/lib/python3.6/site-packages (from ipywidgets) (3.5.1)\nRequirement already satisfied: traitlets>=4.3.1 in /home/nbuser/anaconda3_501/lib/python3.6/site-packages (from ipywidgets) (4.3.2)\nRequirement already satisfied: ipykernel>=4.5.1 in /home/nbuser/anaconda3_501/lib/python3.6/site-packages (from ipywidgets) (5.1.3)\nRequirement already satisfied: nbformat>=4.2.0 in /home/nbuser/anaconda3_501/lib/python3.6/site-packages (from ipywidgets) (4.4.0)\nRequirement already satisfied: decorator in /home/nbuser/anaconda3_501/lib/python3.6/site-packages (from ipython>=4.0.0; python_version >= \"3.3\"->ipywidgets) (4.3.0)\nRequirement already satisfied: backcall in /home/nbuser/anaconda3_501/lib/python3.6/site-packages (from ipython>=4.0.0; python_version >= \"3.3\"->ipywidgets) (0.1.0)\nRequirement already satisfied: setuptools>=18.5 in /home/nbuser/anaconda3_501/lib/python3.6/site-packages (from ipython>=4.0.0; python_version >= \"3.3\"->ipywidgets) (41.6.0)\nRequirement already satisfied: pygments in /home/nbuser/anaconda3_501/lib/python3.6/site-packages (from ipython>=4.0.0; python_version >= \"3.3\"->ipywidgets) (2.2.0)\nRequirement already satisfied: pexpect; sys_platform != \"win32\" in /home/nbuser/anaconda3_501/lib/python3.6/site-packages (from ipython>=4.0.0; python_version >= \"3.3\"->ipywidgets) (4.6.0)\nRequirement already satisfied: prompt-toolkit<2.1.0,>=2.0.0 in /home/nbuser/anaconda3_501/lib/python3.6/site-packages (from ipython>=4.0.0; python_version >= \"3.3\"->ipywidgets) (2.0.7)\nRequirement already satisfied: jedi>=0.10 in /home/nbuser/anaconda3_501/lib/python3.6/site-packages (from ipython>=4.0.0; python_version >= \"3.3\"->ipywidgets) (0.13.1)\nRequirement already satisfied: pickleshare in /home/nbuser/anaconda3_501/lib/python3.6/site-packages (from ipython>=4.0.0; python_version >= \"3.3\"->ipywidgets) (0.7.5)\nRequirement already satisfied: notebook>=4.4.1 in /home/nbuser/anaconda3_501/lib/python3.6/site-packages (from widgetsnbextension~=3.5.0->ipywidgets) (5.7.2)\nRequirement already satisfied: ipython-genutils in /home/nbuser/anaconda3_501/lib/python3.6/site-packages (from traitlets>=4.3.1->ipywidgets) (0.2.0)\nRequirement already satisfied: six in /home/nbuser/anaconda3_501/lib/python3.6/site-packages (from traitlets>=4.3.1->ipywidgets) (1.11.0)\nRequirement already satisfied: tornado>=4.2 in /home/nbuser/anaconda3_501/lib/python3.6/site-packages (from ipykernel>=4.5.1->ipywidgets) (4.5.3)\nRequirement already satisfied: jupyter-client in /home/nbuser/anaconda3_501/lib/python3.6/site-packages (from ipykernel>=4.5.1->ipywidgets) (5.2.3)\nRequirement already satisfied: jupyter-core in /home/nbuser/anaconda3_501/lib/python3.6/site-packages (from nbformat>=4.2.0->ipywidgets) (4.4.0)\nRequirement already satisfied: jsonschema!=2.5.0,>=2.4 in /home/nbuser/anaconda3_501/lib/python3.6/site-packages (from nbformat>=4.2.0->ipywidgets) (2.6.0)\nRequirement already satisfied: ptyprocess>=0.5 in /home/nbuser/anaconda3_501/lib/python3.6/site-packages (from pexpect; sys_platform != \"win32\"->ipython>=4.0.0; python_version >= \"3.3\"->ipywidgets) (0.6.0)\nRequirement already satisfied: wcwidth in /home/nbuser/anaconda3_501/lib/python3.6/site-packages (from prompt-toolkit<2.1.0,>=2.0.0->ipython>=4.0.0; python_version >= \"3.3\"->ipywidgets) (0.1.7)\nRequirement already satisfied: parso>=0.3.0 in /home/nbuser/anaconda3_501/lib/python3.6/site-packages (from jedi>=0.10->ipython>=4.0.0; python_version >= \"3.3\"->ipywidgets) (0.3.1)\nRequirement already satisfied: Send2Trash in /home/nbuser/anaconda3_501/lib/python3.6/site-packages (from notebook>=4.4.1->widgetsnbextension~=3.5.0->ipywidgets) (1.5.0)\nRequirement already satisfied: jinja2 in /home/nbuser/anaconda3_501/lib/python3.6/site-packages (from notebook>=4.4.1->widgetsnbextension~=3.5.0->ipywidgets) (2.10)\nRequirement already satisfied: terminado>=0.8.1 in /home/nbuser/anaconda3_501/lib/python3.6/site-packages (from notebook>=4.4.1->widgetsnbextension~=3.5.0->ipywidgets) (0.8.1)\nRequirement already satisfied: prometheus-client in /home/nbuser/anaconda3_501/lib/python3.6/site-packages (from notebook>=4.4.1->widgetsnbextension~=3.5.0->ipywidgets) (0.4.2)\nRequirement already satisfied: nbconvert in /home/nbuser/anaconda3_501/lib/python3.6/site-packages (from notebook>=4.4.1->widgetsnbextension~=3.5.0->ipywidgets) (5.6.1)\nRequirement already satisfied: pyzmq>=17 in /home/nbuser/anaconda3_501/lib/python3.6/site-packages (from notebook>=4.4.1->widgetsnbextension~=3.5.0->ipywidgets) (17.1.2)\nRequirement already satisfied: python-dateutil>=2.1 in /home/nbuser/anaconda3_501/lib/python3.6/site-packages (from jupyter-client->ipykernel>=4.5.1->ipywidgets) (2.8.1)\nRequirement already satisfied: MarkupSafe>=0.23 in /home/nbuser/anaconda3_501/lib/python3.6/site-packages (from jinja2->notebook>=4.4.1->widgetsnbextension~=3.5.0->ipywidgets) (1.1.0)\nRequirement already satisfied: defusedxml in /home/nbuser/anaconda3_501/lib/python3.6/site-packages (from nbconvert->notebook>=4.4.1->widgetsnbextension~=3.5.0->ipywidgets) (0.5.0)\nRequirement already satisfied: entrypoints>=0.2.2 in /home/nbuser/anaconda3_501/lib/python3.6/site-packages (from nbconvert->notebook>=4.4.1->widgetsnbextension~=3.5.0->ipywidgets) (0.2.3)\nRequirement already satisfied: bleach in /home/nbuser/anaconda3_501/lib/python3.6/site-packages (from nbconvert->notebook>=4.4.1->widgetsnbextension~=3.5.0->ipywidgets) (1.5.0)\nRequirement already satisfied: testpath in /home/nbuser/anaconda3_501/lib/python3.6/site-packages (from nbconvert->notebook>=4.4.1->widgetsnbextension~=3.5.0->ipywidgets) (0.4.2)\nRequirement already satisfied: mistune<2,>=0.8.1 in /home/nbuser/anaconda3_501/lib/python3.6/site-packages (from nbconvert->notebook>=4.4.1->widgetsnbextension~=3.5.0->ipywidgets) (0.8.4)\nRequirement already satisfied: pandocfilters>=1.4.1 in /home/nbuser/anaconda3_501/lib/python3.6/site-packages (from nbconvert->notebook>=4.4.1->widgetsnbextension~=3.5.0->ipywidgets) (1.4.2)\nRequirement already satisfied: html5lib!=0.9999,!=0.99999,<0.99999999,>=0.999 in /home/nbuser/anaconda3_501/lib/python3.6/site-packages (from bleach->nbconvert->notebook>=4.4.1->widgetsnbextension~=3.5.0->ipywidgets) (0.9999999)\n\u001b[33mWARNING: You are using pip version 19.3.1; however, version 20.0.2 is available.\nYou should consider upgrading via the 'pip install --upgrade pip' command.\u001b[0m\n",
          "name": "stdout"
        }
      ]
    },
    {
      "metadata": {
        "trusted": true
      },
      "cell_type": "code",
      "source": "!jupyter nbextension enable --py widgetsnbextension --sys-prefix",
      "execution_count": 2,
      "outputs": [
        {
          "output_type": "stream",
          "text": "Enabling notebook extension jupyter-js-widgets/extension...\r\n      - Validating: \u001b[32mOK\u001b[0m\r\n",
          "name": "stdout"
        }
      ]
    },
    {
      "metadata": {
        "trusted": true
      },
      "cell_type": "code",
      "source": "from ipywidgets import interact, interactive, fixed, interact_manual\nimport ipywidgets as widgets",
      "execution_count": 5,
      "outputs": []
    },
    {
      "metadata": {
        "trusted": true
      },
      "cell_type": "code",
      "source": "w = widgets.IntSlider(value=10,\n                     min=5,\n                     max=20,\n                     step=1,\n                     description= 'Range',\n                     continuous_update=False,\n                     prientation='horizontal')",
      "execution_count": 6,
      "outputs": []
    },
    {
      "metadata": {
        "trusted": true
      },
      "cell_type": "code",
      "source": "w\n",
      "execution_count": 7,
      "outputs": [
        {
          "output_type": "display_data",
          "data": {
            "application/vnd.jupyter.widget-view+json": {
              "model_id": "e4c0d439682e4269bda8bffb8a4b5ca4",
              "version_minor": 0,
              "version_major": 2
            },
            "text/plain": "IntSlider(value=10, continuous_update=False, description='Range', max=20, min=5)"
          },
          "metadata": {}
        }
      ]
    },
    {
      "metadata": {
        "trusted": true
      },
      "cell_type": "code",
      "source": "w.value",
      "execution_count": 8,
      "outputs": [
        {
          "output_type": "execute_result",
          "execution_count": 8,
          "data": {
            "text/plain": "10"
          },
          "metadata": {}
        }
      ]
    },
    {
      "metadata": {
        "trusted": true
      },
      "cell_type": "code",
      "source": "s = widgets.IntRangeSlider(value=[10,1000],\n                     min=10,\n                     max=1000,\n                     step=1,\n                     description= 'Range',                   \n                     prientation='horizontal')",
      "execution_count": 9,
      "outputs": []
    },
    {
      "metadata": {
        "trusted": true
      },
      "cell_type": "code",
      "source": "s\n",
      "execution_count": 10,
      "outputs": [
        {
          "output_type": "display_data",
          "data": {
            "application/vnd.jupyter.widget-view+json": {
              "model_id": "366030d5db1c4e4fb04fd53fd5e3a89e",
              "version_minor": 0,
              "version_major": 2
            },
            "text/plain": "IntRangeSlider(value=(10, 1000), description='Range', max=1000, min=10)"
          },
          "metadata": {}
        }
      ]
    },
    {
      "metadata": {
        "trusted": true
      },
      "cell_type": "code",
      "source": "s.value",
      "execution_count": 11,
      "outputs": [
        {
          "output_type": "execute_result",
          "execution_count": 11,
          "data": {
            "text/plain": "(10, 1000)"
          },
          "metadata": {}
        }
      ]
    },
    {
      "metadata": {
        "trusted": true
      },
      "cell_type": "code",
      "source": "p = widgets.IntProgress(value=10,\n                         min=0,\n                         max=100,\n                         step=1,\n                         description= 'Loading:',\n                         bar_style= 'success',\n                         prientation='horizontal')",
      "execution_count": 12,
      "outputs": []
    },
    {
      "metadata": {
        "trusted": true
      },
      "cell_type": "code",
      "source": "p",
      "execution_count": 13,
      "outputs": [
        {
          "output_type": "display_data",
          "data": {
            "application/vnd.jupyter.widget-view+json": {
              "model_id": "eb0cc419da634a3496e1fa53cf752c11",
              "version_minor": 0,
              "version_major": 2
            },
            "text/plain": "IntProgress(value=10, bar_style='success', description='Loading:')"
          },
          "metadata": {}
        }
      ]
    },
    {
      "metadata": {
        "trusted": true
      },
      "cell_type": "code",
      "source": "import time\nfor i in range(0,110,10):\n    p.value = i\n    \n    time.sleep(1);\n",
      "execution_count": 14,
      "outputs": []
    },
    {
      "metadata": {
        "trusted": true
      },
      "cell_type": "code",
      "source": "b = widgets.BoundedIntText(value=10,\n                         min=0,\n                         max=100,\n                         step=1,\n                         description= 'Text:',\n                         disable=False)",
      "execution_count": 15,
      "outputs": []
    },
    {
      "metadata": {
        "trusted": true
      },
      "cell_type": "code",
      "source": "b",
      "execution_count": 16,
      "outputs": [
        {
          "output_type": "display_data",
          "data": {
            "application/vnd.jupyter.widget-view+json": {
              "model_id": "2c4ef0856c73435e9e163ce51a8863ad",
              "version_minor": 0,
              "version_major": 2
            },
            "text/plain": "BoundedIntText(value=10, description='Text:')"
          },
          "metadata": {}
        }
      ]
    },
    {
      "metadata": {
        "trusted": true
      },
      "cell_type": "code",
      "source": "b.value",
      "execution_count": 17,
      "outputs": [
        {
          "output_type": "execute_result",
          "execution_count": 17,
          "data": {
            "text/plain": "10"
          },
          "metadata": {}
        }
      ]
    },
    {
      "metadata": {
        "trusted": true
      },
      "cell_type": "code",
      "source": "def f(x):\n    return x\n",
      "execution_count": 18,
      "outputs": []
    },
    {
      "metadata": {
        "trusted": true
      },
      "cell_type": "code",
      "source": "interact(f,x=10);",
      "execution_count": 19,
      "outputs": [
        {
          "output_type": "display_data",
          "data": {
            "application/vnd.jupyter.widget-view+json": {
              "model_id": "ff9815e9a876434988beafd6718ccb2e",
              "version_minor": 0,
              "version_major": 2
            },
            "text/plain": "interactive(children=(IntSlider(value=10, description='x', max=30, min=-10), Output()), _dom_classes=('widget-…"
          },
          "metadata": {}
        }
      ]
    },
    {
      "metadata": {
        "trusted": true
      },
      "cell_type": "code",
      "source": "interact(f,x=True);",
      "execution_count": 20,
      "outputs": [
        {
          "output_type": "display_data",
          "data": {
            "application/vnd.jupyter.widget-view+json": {
              "model_id": "4bab5c0bd5e34552b8b3276a1da68dcf",
              "version_minor": 0,
              "version_major": 2
            },
            "text/plain": "interactive(children=(Checkbox(value=True, description='x'), Output()), _dom_classes=('widget-interact',))"
          },
          "metadata": {}
        }
      ]
    },
    {
      "metadata": {
        "trusted": true
      },
      "cell_type": "code",
      "source": "interact(f,x='es un textbox');",
      "execution_count": 21,
      "outputs": [
        {
          "output_type": "display_data",
          "data": {
            "application/vnd.jupyter.widget-view+json": {
              "model_id": "3ccd973005aa49f991b20d14c0fcc9b3",
              "version_minor": 0,
              "version_major": 2
            },
            "text/plain": "interactive(children=(Text(value='es un textbox', description='x'), Output()), _dom_classes=('widget-interact'…"
          },
          "metadata": {}
        }
      ]
    },
    {
      "metadata": {
        "trusted": true
      },
      "cell_type": "code",
      "source": "@interact(x=1,y=10)\ndef g(x,y):\n    return (x,y)",
      "execution_count": 22,
      "outputs": [
        {
          "output_type": "display_data",
          "data": {
            "application/vnd.jupyter.widget-view+json": {
              "model_id": "46e898cfb37847f799ff49141819c6e9",
              "version_minor": 0,
              "version_major": 2
            },
            "text/plain": "interactive(children=(IntSlider(value=1, description='x', max=3, min=-1), IntSlider(value=10, description='y',…"
          },
          "metadata": {}
        }
      ]
    },
    {
      "metadata": {
        "trusted": true
      },
      "cell_type": "code",
      "source": "import matplotlib.pyplot as plt\nimport numpy as np",
      "execution_count": 23,
      "outputs": []
    },
    {
      "metadata": {
        "trusted": true
      },
      "cell_type": "code",
      "source": "def f(m, b):\n    plt.figure(2)\n    \n    x = np.linspace(-1, 10, num=1000)\n    \n    plt.plot(x, m * x + b)\n    \n    plt.ylim(-5, 5)\n    plt.show()\n\niplot = interactive(f, m=(-2.0,2.0),b =(-3,3,0.5))",
      "execution_count": 24,
      "outputs": []
    },
    {
      "metadata": {
        "trusted": true
      },
      "cell_type": "code",
      "source": "output = iplot.children[-1]\noutput.layout.height = '350px'\niplot",
      "execution_count": 25,
      "outputs": [
        {
          "output_type": "display_data",
          "data": {
            "application/vnd.jupyter.widget-view+json": {
              "model_id": "03e32318a58945a88ba57745b120a2a0",
              "version_minor": 0,
              "version_major": 2
            },
            "text/plain": "interactive(children=(FloatSlider(value=0.0, description='m', max=2.0, min=-2.0), FloatSlider(value=0.0, descr…"
          },
          "metadata": {}
        }
      ]
    },
    {
      "metadata": {
        "trusted": true
      },
      "cell_type": "code",
      "source": "from IPython.display import display\n\ntext = widgets.Text()\ndisplay(text)\n\ndef make_upper_case(input_text):\n    text.value = input_text.value.upper()\n    \n    print(text.value)\n    \ntext.on_submit(make_upper_case)",
      "execution_count": 29,
      "outputs": [
        {
          "output_type": "display_data",
          "data": {
            "application/vnd.jupyter.widget-view+json": {
              "model_id": "64d6cbcf36eb49a6b3112450c9065c69",
              "version_minor": 0,
              "version_major": 2
            },
            "text/plain": "Text(value='')"
          },
          "metadata": {}
        }
      ]
    },
    {
      "metadata": {
        "trusted": true
      },
      "cell_type": "code",
      "source": "import pandas as pd\nhouse_data = pd.read_csv(\"data.csv\")\nhouse_data",
      "execution_count": 32,
      "outputs": [
        {
          "output_type": "execute_result",
          "execution_count": 32,
          "data": {
            "text/html": "<div>\n<style scoped>\n    .dataframe tbody tr th:only-of-type {\n        vertical-align: middle;\n    }\n\n    .dataframe tbody tr th {\n        vertical-align: top;\n    }\n\n    .dataframe thead th {\n        text-align: right;\n    }\n</style>\n<table border=\"1\" class=\"dataframe\">\n  <thead>\n    <tr style=\"text-align: right;\">\n      <th></th>\n      <th>Date</th>\n      <th>Open</th>\n      <th>High</th>\n      <th>Low</th>\n      <th>Close</th>\n      <th>Volume (BTC)</th>\n      <th>Volume (Currency)</th>\n      <th>Weighted Price</th>\n    </tr>\n  </thead>\n  <tbody>\n    <tr>\n      <th>0</th>\n      <td>2014-02-25</td>\n      <td>173.20000</td>\n      <td>173.84343</td>\n      <td>101.62872</td>\n      <td>135.00000</td>\n      <td>29886.753240</td>\n      <td>3.667985e+06</td>\n      <td>122.729470</td>\n    </tr>\n    <tr>\n      <th>1</th>\n      <td>2014-02-24</td>\n      <td>314.99996</td>\n      <td>316.78999</td>\n      <td>131.72093</td>\n      <td>173.87100</td>\n      <td>94594.022589</td>\n      <td>1.759053e+07</td>\n      <td>185.958167</td>\n    </tr>\n    <tr>\n      <th>2</th>\n      <td>2014-02-23</td>\n      <td>260.70495</td>\n      <td>348.98000</td>\n      <td>220.10000</td>\n      <td>309.99971</td>\n      <td>38395.103758</td>\n      <td>1.105177e+07</td>\n      <td>287.843300</td>\n    </tr>\n    <tr>\n      <th>3</th>\n      <td>2014-02-22</td>\n      <td>111.00000</td>\n      <td>290.52557</td>\n      <td>96.63450</td>\n      <td>255.53000</td>\n      <td>71861.288023</td>\n      <td>1.163297e+07</td>\n      <td>161.880903</td>\n    </tr>\n    <tr>\n      <th>4</th>\n      <td>2014-02-21</td>\n      <td>111.61995</td>\n      <td>160.00000</td>\n      <td>91.50000</td>\n      <td>111.40000</td>\n      <td>82102.929552</td>\n      <td>9.798283e+06</td>\n      <td>119.341450</td>\n    </tr>\n  </tbody>\n</table>\n</div>",
            "text/plain": "         Date       Open       High        Low      Close  Volume (BTC)  \\\n0  2014-02-25  173.20000  173.84343  101.62872  135.00000  29886.753240   \n1  2014-02-24  314.99996  316.78999  131.72093  173.87100  94594.022589   \n2  2014-02-23  260.70495  348.98000  220.10000  309.99971  38395.103758   \n3  2014-02-22  111.00000  290.52557   96.63450  255.53000  71861.288023   \n4  2014-02-21  111.61995  160.00000   91.50000  111.40000  82102.929552   \n\n   Volume (Currency)  Weighted Price  \n0       3.667985e+06      122.729470  \n1       1.759053e+07      185.958167  \n2       1.105177e+07      287.843300  \n3       1.163297e+07      161.880903  \n4       9.798283e+06      119.341450  "
          },
          "metadata": {}
        }
      ]
    },
    {
      "metadata": {
        "trusted": true
      },
      "cell_type": "code",
      "source": "@interact\ndef show_more_tha(column=\"High\", x = 100):\n    return house_data.loc[house_data[column]> x]",
      "execution_count": 34,
      "outputs": [
        {
          "output_type": "display_data",
          "data": {
            "application/vnd.jupyter.widget-view+json": {
              "model_id": "4c93a3342d3649eca8105da643b55399",
              "version_minor": 0,
              "version_major": 2
            },
            "text/plain": "interactive(children=(Text(value='High', description='column'), IntSlider(value=100, description='x', max=300,…"
          },
          "metadata": {}
        }
      ]
    },
    {
      "metadata": {
        "trusted": true
      },
      "cell_type": "code",
      "source": "",
      "execution_count": null,
      "outputs": []
    }
  ],
  "metadata": {
    "kernelspec": {
      "name": "python36",
      "display_name": "Python 3.6",
      "language": "python"
    },
    "language_info": {
      "mimetype": "text/x-python",
      "nbconvert_exporter": "python",
      "name": "python",
      "pygments_lexer": "ipython3",
      "version": "3.6.6",
      "file_extension": ".py",
      "codemirror_mode": {
        "version": 3,
        "name": "ipython"
      }
    }
  },
  "nbformat": 4,
  "nbformat_minor": 2
}