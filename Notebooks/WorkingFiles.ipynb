{
  "cells": [
    {
      "metadata": {
        "trusted": true
      },
      "cell_type": "code",
      "source": "import os",
      "execution_count": 1,
      "outputs": []
    },
    {
      "metadata": {
        "trusted": true
      },
      "cell_type": "code",
      "source": "os.getcwd()\n",
      "execution_count": 2,
      "outputs": [
        {
          "output_type": "execute_result",
          "execution_count": 2,
          "data": {
            "text/plain": "'/home/nbuser/library'"
          },
          "metadata": {}
        }
      ]
    },
    {
      "metadata": {
        "trusted": true
      },
      "cell_type": "code",
      "source": "file = open('data.csv')\nfile\n",
      "execution_count": 4,
      "outputs": [
        {
          "output_type": "execute_result",
          "execution_count": 4,
          "data": {
            "text/plain": "<_io.TextIOWrapper name='data.csv' mode='r' encoding='UTF-8'>"
          },
          "metadata": {}
        }
      ]
    },
    {
      "metadata": {
        "trusted": true
      },
      "cell_type": "code",
      "source": "file.read()",
      "execution_count": 5,
      "outputs": [
        {
          "output_type": "execute_result",
          "execution_count": 5,
          "data": {
            "text/plain": "'Date,Open,High,Low,Close,Volume (BTC),Volume (Currency),Weighted Price\\n2014-02-25,173.2,173.84343,101.62872,135.0,29886.7532397,3667985.39624,122.729470372\\n2014-02-24,314.99996,316.78999,131.72093,173.871,94594.0225893,17590531.0124,185.958166604\\n2014-02-23,260.70495,348.98,220.1,309.99971,38395.103758,11051773.3535,287.843299581\\n2014-02-22,111.0,290.52557,96.6345,255.53,71861.2880229,11632970.1851,161.88090285\\n2014-02-21,111.61995,160.0,91.5,111.4,82102.9295521,9798282.70207,119.341450488'"
          },
          "metadata": {}
        }
      ]
    },
    {
      "metadata": {
        "trusted": true
      },
      "cell_type": "code",
      "source": "file.seek(0)",
      "execution_count": 6,
      "outputs": [
        {
          "output_type": "execute_result",
          "execution_count": 6,
          "data": {
            "text/plain": "0"
          },
          "metadata": {}
        }
      ]
    },
    {
      "metadata": {
        "trusted": true
      },
      "cell_type": "code",
      "source": "file.read(10)",
      "execution_count": 7,
      "outputs": [
        {
          "output_type": "execute_result",
          "execution_count": 7,
          "data": {
            "text/plain": "'Date,Open,'"
          },
          "metadata": {}
        }
      ]
    },
    {
      "metadata": {
        "trusted": true
      },
      "cell_type": "code",
      "source": "file.tell()",
      "execution_count": 8,
      "outputs": [
        {
          "output_type": "execute_result",
          "execution_count": 8,
          "data": {
            "text/plain": "10"
          },
          "metadata": {}
        }
      ]
    },
    {
      "metadata": {
        "trusted": true
      },
      "cell_type": "code",
      "source": "file.read()",
      "execution_count": 9,
      "outputs": [
        {
          "output_type": "execute_result",
          "execution_count": 9,
          "data": {
            "text/plain": "'High,Low,Close,Volume (BTC),Volume (Currency),Weighted Price\\n2014-02-25,173.2,173.84343,101.62872,135.0,29886.7532397,3667985.39624,122.729470372\\n2014-02-24,314.99996,316.78999,131.72093,173.871,94594.0225893,17590531.0124,185.958166604\\n2014-02-23,260.70495,348.98,220.1,309.99971,38395.103758,11051773.3535,287.843299581\\n2014-02-22,111.0,290.52557,96.6345,255.53,71861.2880229,11632970.1851,161.88090285\\n2014-02-21,111.61995,160.0,91.5,111.4,82102.9295521,9798282.70207,119.341450488'"
          },
          "metadata": {}
        }
      ]
    },
    {
      "metadata": {
        "trusted": true
      },
      "cell_type": "code",
      "source": "file.close()",
      "execution_count": 10,
      "outputs": []
    },
    {
      "metadata": {
        "trusted": true
      },
      "cell_type": "code",
      "source": "file = open('data.csv', mode='r')",
      "execution_count": 11,
      "outputs": []
    },
    {
      "metadata": {
        "trusted": true
      },
      "cell_type": "code",
      "source": "file.readline()",
      "execution_count": 12,
      "outputs": [
        {
          "output_type": "execute_result",
          "execution_count": 12,
          "data": {
            "text/plain": "'Date,Open,High,Low,Close,Volume (BTC),Volume (Currency),Weighted Price\\n'"
          },
          "metadata": {}
        }
      ]
    },
    {
      "metadata": {
        "trusted": true
      },
      "cell_type": "code",
      "source": "file.seek(0)",
      "execution_count": 13,
      "outputs": [
        {
          "output_type": "execute_result",
          "execution_count": 13,
          "data": {
            "text/plain": "0"
          },
          "metadata": {}
        }
      ]
    },
    {
      "metadata": {
        "trusted": true
      },
      "cell_type": "code",
      "source": "with open('data.csv', 'r') as file_again:\n    for txt in file_again:\n        print (txt.rstrip(\"\\n\"))",
      "execution_count": 15,
      "outputs": [
        {
          "output_type": "stream",
          "text": "Date,Open,High,Low,Close,Volume (BTC),Volume (Currency),Weighted Price\n2014-02-25,173.2,173.84343,101.62872,135.0,29886.7532397,3667985.39624,122.729470372\n2014-02-24,314.99996,316.78999,131.72093,173.871,94594.0225893,17590531.0124,185.958166604\n2014-02-23,260.70495,348.98,220.1,309.99971,38395.103758,11051773.3535,287.843299581\n2014-02-22,111.0,290.52557,96.6345,255.53,71861.2880229,11632970.1851,161.88090285\n2014-02-21,111.61995,160.0,91.5,111.4,82102.9295521,9798282.70207,119.341450488\n",
          "name": "stdout"
        }
      ]
    },
    {
      "metadata": {
        "trusted": true
      },
      "cell_type": "code",
      "source": "import csv\nwith open('data.csv', 'r') as file_again:\n    csv_reader =csv.reader(file_again)\n    for txt in csv_reader:\n        print(txt)",
      "execution_count": 17,
      "outputs": [
        {
          "output_type": "stream",
          "text": "['Date', 'Open', 'High', 'Low', 'Close', 'Volume (BTC)', 'Volume (Currency)', 'Weighted Price']\n['2014-02-25', '173.2', '173.84343', '101.62872', '135.0', '29886.7532397', '3667985.39624', '122.729470372']\n['2014-02-24', '314.99996', '316.78999', '131.72093', '173.871', '94594.0225893', '17590531.0124', '185.958166604']\n['2014-02-23', '260.70495', '348.98', '220.1', '309.99971', '38395.103758', '11051773.3535', '287.843299581']\n['2014-02-22', '111.0', '290.52557', '96.6345', '255.53', '71861.2880229', '11632970.1851', '161.88090285']\n['2014-02-21', '111.61995', '160.0', '91.5', '111.4', '82102.9295521', '9798282.70207', '119.341450488']\n",
          "name": "stdout"
        }
      ]
    },
    {
      "metadata": {
        "trusted": true
      },
      "cell_type": "code",
      "source": "with open('data.csv', 'r') as file_again:\n    csv_reader =csv.DictReader(file_again)\n    for txt in csv_reader:\n        print(txt)",
      "execution_count": 18,
      "outputs": [
        {
          "output_type": "stream",
          "text": "OrderedDict([('Date', '2014-02-25'), ('Open', '173.2'), ('High', '173.84343'), ('Low', '101.62872'), ('Close', '135.0'), ('Volume (BTC)', '29886.7532397'), ('Volume (Currency)', '3667985.39624'), ('Weighted Price', '122.729470372')])\nOrderedDict([('Date', '2014-02-24'), ('Open', '314.99996'), ('High', '316.78999'), ('Low', '131.72093'), ('Close', '173.871'), ('Volume (BTC)', '94594.0225893'), ('Volume (Currency)', '17590531.0124'), ('Weighted Price', '185.958166604')])\nOrderedDict([('Date', '2014-02-23'), ('Open', '260.70495'), ('High', '348.98'), ('Low', '220.1'), ('Close', '309.99971'), ('Volume (BTC)', '38395.103758'), ('Volume (Currency)', '11051773.3535'), ('Weighted Price', '287.843299581')])\nOrderedDict([('Date', '2014-02-22'), ('Open', '111.0'), ('High', '290.52557'), ('Low', '96.6345'), ('Close', '255.53'), ('Volume (BTC)', '71861.2880229'), ('Volume (Currency)', '11632970.1851'), ('Weighted Price', '161.88090285')])\nOrderedDict([('Date', '2014-02-21'), ('Open', '111.61995'), ('High', '160.0'), ('Low', '91.5'), ('Close', '111.4'), ('Volume (BTC)', '82102.9295521'), ('Volume (Currency)', '9798282.70207'), ('Weighted Price', '119.341450488')])\n",
          "name": "stdout"
        }
      ]
    },
    {
      "metadata": {
        "trusted": true
      },
      "cell_type": "code",
      "source": "import pandas as pd",
      "execution_count": 19,
      "outputs": []
    },
    {
      "metadata": {
        "trusted": true
      },
      "cell_type": "code",
      "source": "df = pd.read_csv(\"data.csv\")\ndf",
      "execution_count": 23,
      "outputs": [
        {
          "output_type": "execute_result",
          "execution_count": 23,
          "data": {
            "text/html": "<div>\n<style scoped>\n    .dataframe tbody tr th:only-of-type {\n        vertical-align: middle;\n    }\n\n    .dataframe tbody tr th {\n        vertical-align: top;\n    }\n\n    .dataframe thead th {\n        text-align: right;\n    }\n</style>\n<table border=\"1\" class=\"dataframe\">\n  <thead>\n    <tr style=\"text-align: right;\">\n      <th></th>\n      <th>Date</th>\n      <th>Open</th>\n      <th>High</th>\n      <th>Low</th>\n      <th>Close</th>\n      <th>Volume (BTC)</th>\n      <th>Volume (Currency)</th>\n      <th>Weighted Price</th>\n    </tr>\n  </thead>\n  <tbody>\n    <tr>\n      <th>0</th>\n      <td>2014-02-25</td>\n      <td>173.20000</td>\n      <td>173.84343</td>\n      <td>101.62872</td>\n      <td>135.00000</td>\n      <td>29886.753240</td>\n      <td>3.667985e+06</td>\n      <td>122.729470</td>\n    </tr>\n    <tr>\n      <th>1</th>\n      <td>2014-02-24</td>\n      <td>314.99996</td>\n      <td>316.78999</td>\n      <td>131.72093</td>\n      <td>173.87100</td>\n      <td>94594.022589</td>\n      <td>1.759053e+07</td>\n      <td>185.958167</td>\n    </tr>\n    <tr>\n      <th>2</th>\n      <td>2014-02-23</td>\n      <td>260.70495</td>\n      <td>348.98000</td>\n      <td>220.10000</td>\n      <td>309.99971</td>\n      <td>38395.103758</td>\n      <td>1.105177e+07</td>\n      <td>287.843300</td>\n    </tr>\n    <tr>\n      <th>3</th>\n      <td>2014-02-22</td>\n      <td>111.00000</td>\n      <td>290.52557</td>\n      <td>96.63450</td>\n      <td>255.53000</td>\n      <td>71861.288023</td>\n      <td>1.163297e+07</td>\n      <td>161.880903</td>\n    </tr>\n    <tr>\n      <th>4</th>\n      <td>2014-02-21</td>\n      <td>111.61995</td>\n      <td>160.00000</td>\n      <td>91.50000</td>\n      <td>111.40000</td>\n      <td>82102.929552</td>\n      <td>9.798283e+06</td>\n      <td>119.341450</td>\n    </tr>\n  </tbody>\n</table>\n</div>",
            "text/plain": "         Date       Open       High        Low      Close  Volume (BTC)  \\\n0  2014-02-25  173.20000  173.84343  101.62872  135.00000  29886.753240   \n1  2014-02-24  314.99996  316.78999  131.72093  173.87100  94594.022589   \n2  2014-02-23  260.70495  348.98000  220.10000  309.99971  38395.103758   \n3  2014-02-22  111.00000  290.52557   96.63450  255.53000  71861.288023   \n4  2014-02-21  111.61995  160.00000   91.50000  111.40000  82102.929552   \n\n   Volume (Currency)  Weighted Price  \n0       3.667985e+06      122.729470  \n1       1.759053e+07      185.958167  \n2       1.105177e+07      287.843300  \n3       1.163297e+07      161.880903  \n4       9.798283e+06      119.341450  "
          },
          "metadata": {}
        }
      ]
    },
    {
      "metadata": {
        "trusted": true
      },
      "cell_type": "code",
      "source": "import json",
      "execution_count": 24,
      "outputs": []
    },
    {
      "metadata": {
        "trusted": true
      },
      "cell_type": "code",
      "source": "dogs = {\"Oba\": 8.9,\n       }",
      "execution_count": null,
      "outputs": []
    }
  ],
  "metadata": {
    "kernelspec": {
      "name": "python36",
      "display_name": "Python 3.6",
      "language": "python"
    },
    "language_info": {
      "mimetype": "text/x-python",
      "nbconvert_exporter": "python",
      "name": "python",
      "pygments_lexer": "ipython3",
      "version": "3.6.6",
      "file_extension": ".py",
      "codemirror_mode": {
        "version": 3,
        "name": "ipython"
      }
    }
  },
  "nbformat": 4,
  "nbformat_minor": 2
}