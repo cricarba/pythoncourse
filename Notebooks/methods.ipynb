{
  "cells": [
    {
      "metadata": {
        "trusted": true
      },
      "cell_type": "code",
      "source": "def MyMethod():\n    print(\"method called\")\nMyMethod()",
      "execution_count": 2,
      "outputs": [
        {
          "output_type": "stream",
          "text": "method called\n",
          "name": "stdout"
        }
      ]
    },
    {
      "metadata": {
        "trusted": true
      },
      "cell_type": "code",
      "source": "def MuMethodsWithParams(par1, par2):\n    result = par1 * par2\n    return result",
      "execution_count": 4,
      "outputs": []
    },
    {
      "metadata": {
        "trusted": true
      },
      "cell_type": "code",
      "source": "result = MuMethodsWithParams(2,2)\nprint(result)",
      "execution_count": 5,
      "outputs": [
        {
          "output_type": "stream",
          "text": "4\n",
          "name": "stdout"
        }
      ]
    },
    {
      "metadata": {
        "trusted": true
      },
      "cell_type": "code",
      "source": "result = MuMethodsWithParams(2,\"2\")\nprint(result)",
      "execution_count": 6,
      "outputs": [
        {
          "output_type": "stream",
          "text": "22\n",
          "name": "stdout"
        }
      ]
    },
    {
      "metadata": {
        "trusted": true
      },
      "cell_type": "code",
      "source": "def MuMethodsWithParams(par1, par2):\n    mult = par1 * par2\n    suma = par1 + par2\n    return mult, suma",
      "execution_count": 7,
      "outputs": []
    },
    {
      "metadata": {
        "trusted": true
      },
      "cell_type": "code",
      "source": "result = MuMethodsWithParams(2,2)\nprint(result)",
      "execution_count": 8,
      "outputs": [
        {
          "output_type": "stream",
          "text": "(4, 4)\n",
          "name": "stdout"
        }
      ]
    },
    {
      "metadata": {
        "trusted": true
      },
      "cell_type": "code",
      "source": "mult, suma = MuMethodsWithParams(2,2)\nprint(mult)\nprint(suma)",
      "execution_count": 9,
      "outputs": [
        {
          "output_type": "stream",
          "text": "4\n4\n",
          "name": "stdout"
        }
      ]
    },
    {
      "metadata": {
        "trusted": true
      },
      "cell_type": "code",
      "source": "",
      "execution_count": null,
      "outputs": []
    }
  ],
  "metadata": {
    "kernelspec": {
      "name": "python36",
      "display_name": "Python 3.6",
      "language": "python"
    },
    "language_info": {
      "mimetype": "text/x-python",
      "nbconvert_exporter": "python",
      "name": "python",
      "pygments_lexer": "ipython3",
      "version": "3.6.6",
      "file_extension": ".py",
      "codemirror_mode": {
        "version": 3,
        "name": "ipython"
      }
    }
  },
  "nbformat": 4,
  "nbformat_minor": 2
}