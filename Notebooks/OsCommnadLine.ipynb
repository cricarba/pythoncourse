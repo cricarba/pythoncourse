{
  "cells": [
    {
      "metadata": {
        "trusted": true
      },
      "cell_type": "code",
      "source": "import os",
      "execution_count": 1,
      "outputs": []
    },
    {
      "metadata": {
        "trusted": true
      },
      "cell_type": "code",
      "source": "os.environ",
      "execution_count": 2,
      "outputs": [
        {
          "output_type": "execute_result",
          "execution_count": 2,
          "data": {
            "text/plain": "environ{'HOSTNAME': 'nbserver',\n        'SHELL': '/bin/bash',\n        'TERM': 'xterm-color',\n        'MSI_ENDPOINT': 'http://localhost:25198/nb/api/nbsvc/oauth2/token',\n        'http_proxy': 'http://webproxy:3128',\n        'USER': 'nbuser',\n        'LD_LIBRARY_PATH': '/usr/lib64/MRO-3.3.0/R-3.3.0/lib/R/lib:',\n        'SUDO_USER': 'root',\n        'AZURE_HTTP_USER_AGENT': 'AzureNotebooks/0.5.0',\n        'JPY_PARENT_PID': '40',\n        'USERNAME': 'nbuser',\n        'MAIL': '/var/mail/nbuser',\n        'PATH': '/home/nbuser/anaconda3_501/bin:/usr/local/bin:/usr/local/sbin:/usr/local/bin:/usr/sbin:/usr/bin:/sbin:/bin:/snap/bin:/home/nbuser/.local/bin',\n        'PWD': '/home/nbuser/library',\n        'R_LIBS': '/home/nbuser/R:/usr/local/lib/R/site-library:/usr/lib/R/site-library:/usr/lib/R/library',\n        'AZURE_NOTEBOOKS_SERVER_URL': 'http://localhost:25198/nb',\n        'LANG': 'en_US.UTF-8',\n        'NBUSER_ENV': 'yes',\n        'https_proxy': 'http://webproxy:3128',\n        'SUDO_COMMAND': '/bin/bash /.start.sh 25198 https://notebooks.azure.com nb 0054_ansprod7406nb a0eb73c23c4b4460adee0452f0cf0894453671ece78c4df5a0dafc5ee6884005 e1160796-a49f-4f9c-8942-2b02900b024a ansprod7406nb VM',\n        'SHLVL': '2',\n        'HOME': '/home/nbuser',\n        'AZURE_NOTEBOOKS_VMVERSION': 'dfcdb5e6e',\n        'no_proxy': 'localhost,nbserver,127.0.0.1',\n        'PYTHONPATH': '/home/nbuser/library',\n        'LOGNAME': 'nbuser',\n        'SUDO_GID': '0',\n        'AZURE_NOTEBOOKS_HOST': 'https://notebooks.azure.com',\n        '_': '/home/nbuser/anaconda3_501/bin/python',\n        'CLICOLOR': '1',\n        'PAGER': 'cat',\n        'GIT_PAGER': 'cat',\n        'MPLBACKEND': 'module://ipykernel.pylab.backend_inline'}"
          },
          "metadata": {}
        }
      ]
    },
    {
      "metadata": {
        "trusted": true
      },
      "cell_type": "code",
      "source": "os.environ['USER']",
      "execution_count": 3,
      "outputs": [
        {
          "output_type": "execute_result",
          "execution_count": 3,
          "data": {
            "text/plain": "'nbuser'"
          },
          "metadata": {}
        }
      ]
    },
    {
      "metadata": {
        "trusted": true
      },
      "cell_type": "code",
      "source": "!ls",
      "execution_count": 4,
      "outputs": [
        {
          "output_type": "stream",
          "text": "ConditionalsAndLoops.ipynb  Math Module.ipynb\t README.md\r\ndata.csv\t\t    methods.ipynb\t SimpleExpressions.ipynb\r\ndictionarys.ipynb\t    NumPy.ipynb\t\t testNoteBook.ipynb\r\nFunctions.ipynb\t\t    OsCommnadLine.ipynb  Tuples.ipynb\r\nlist.ipynb\t\t    pandas.ipynb\r\n",
          "name": "stdout"
        }
      ]
    },
    {
      "metadata": {
        "trusted": true
      },
      "cell_type": "code",
      "source": "os.list",
      "execution_count": null,
      "outputs": []
    }
  ],
  "metadata": {
    "kernelspec": {
      "name": "python36",
      "display_name": "Python 3.6",
      "language": "python"
    },
    "language_info": {
      "mimetype": "text/x-python",
      "nbconvert_exporter": "python",
      "name": "python",
      "pygments_lexer": "ipython3",
      "version": "3.6.6",
      "file_extension": ".py",
      "codemirror_mode": {
        "version": 3,
        "name": "ipython"
      }
    }
  },
  "nbformat": 4,
  "nbformat_minor": 2
}