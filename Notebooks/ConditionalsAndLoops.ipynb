{
  "cells": [
    {
      "metadata": {
        "trusted": true
      },
      "cell_type": "code",
      "source": "if 25 < 30:\n    print (\"True\")",
      "execution_count": 2,
      "outputs": [
        {
          "output_type": "stream",
          "text": "True\n",
          "name": "stdout"
        }
      ]
    },
    {
      "metadata": {
        "trusted": true
      },
      "cell_type": "code",
      "source": "if not 25 == 30:\n    print (\"True\")",
      "execution_count": 3,
      "outputs": [
        {
          "output_type": "stream",
          "text": "True\n",
          "name": "stdout"
        }
      ]
    },
    {
      "metadata": {
        "trusted": true
      },
      "cell_type": "code",
      "source": "cars = [\"auto\",\"bus\", \"cicle\"]\nauto = \"auto\"\nif auto in cars :\n    print(\"auto in cars\")",
      "execution_count": 2,
      "outputs": [
        {
          "output_type": "stream",
          "text": "auto in cars\n",
          "name": "stdout"
        }
      ]
    },
    {
      "metadata": {
        "trusted": true
      },
      "cell_type": "code",
      "source": "auto = \"cacharro\"\nif auto not in cars:\n    print(\"cacharro not in cars\")",
      "execution_count": 4,
      "outputs": [
        {
          "output_type": "stream",
          "text": "cacharro not in cars\n",
          "name": "stdout"
        }
      ]
    },
    {
      "metadata": {
        "trusted": true
      },
      "cell_type": "code",
      "source": "if 2 > 3:\n    print(\"is impossible\")\nelif 3 > 2:\n    print(\"ok\")    ",
      "execution_count": 9,
      "outputs": [
        {
          "output_type": "stream",
          "text": "ok\n",
          "name": "stdout"
        }
      ]
    },
    {
      "metadata": {
        "trusted": true
      },
      "cell_type": "code",
      "source": "for car in cars:\n    print(car)",
      "execution_count": 10,
      "outputs": [
        {
          "output_type": "stream",
          "text": "auto\nbus\ncicle\n",
          "name": "stdout"
        }
      ]
    },
    {
      "metadata": {
        "trusted": true
      },
      "cell_type": "code",
      "source": "car\n",
      "execution_count": 11,
      "outputs": [
        {
          "output_type": "execute_result",
          "execution_count": 11,
          "data": {
            "text/plain": "'cicle'"
          },
          "metadata": {}
        }
      ]
    },
    {
      "metadata": {
        "trusted": true
      },
      "cell_type": "code",
      "source": "r = range(10)\nr",
      "execution_count": 12,
      "outputs": [
        {
          "output_type": "execute_result",
          "execution_count": 12,
          "data": {
            "text/plain": "range(0, 10)"
          },
          "metadata": {}
        }
      ]
    },
    {
      "metadata": {
        "trusted": true
      },
      "cell_type": "code",
      "source": "tuple(r)",
      "execution_count": 13,
      "outputs": [
        {
          "output_type": "execute_result",
          "execution_count": 13,
          "data": {
            "text/plain": "(0, 1, 2, 3, 4, 5, 6, 7, 8, 9)"
          },
          "metadata": {}
        }
      ]
    },
    {
      "metadata": {
        "trusted": true
      },
      "cell_type": "code",
      "source": "list(r)",
      "execution_count": 14,
      "outputs": [
        {
          "output_type": "execute_result",
          "execution_count": 14,
          "data": {
            "text/plain": "[0, 1, 2, 3, 4, 5, 6, 7, 8, 9]"
          },
          "metadata": {}
        }
      ]
    },
    {
      "metadata": {
        "trusted": true
      },
      "cell_type": "code",
      "source": "for i in range(0,10):\n    print(i)",
      "execution_count": 15,
      "outputs": [
        {
          "output_type": "stream",
          "text": "0\n1\n2\n3\n4\n5\n6\n7\n8\n9\n",
          "name": "stdout"
        }
      ]
    },
    {
      "metadata": {
        "trusted": true
      },
      "cell_type": "code",
      "source": "for i in range(0,10,2):\n    print(i)",
      "execution_count": 16,
      "outputs": [
        {
          "output_type": "stream",
          "text": "0\n2\n4\n6\n8\n",
          "name": "stdout"
        }
      ]
    },
    {
      "metadata": {
        "trusted": true
      },
      "cell_type": "code",
      "source": "a = 5\nwhile a < 10:\n    print(a)\n    \n    a = a + 1\n    ",
      "execution_count": 16,
      "outputs": [
        {
          "output_type": "stream",
          "text": "5\n6\n7\n8\n9\n",
          "name": "stdout"
        }
      ]
    },
    {
      "metadata": {
        "trusted": true
      },
      "cell_type": "code",
      "source": "a = 5\nwhile a < 10:\n    print(\"Hola\")\n    \n    a = 6 * a",
      "execution_count": 15,
      "outputs": [
        {
          "output_type": "stream",
          "text": "Hola\n",
          "name": "stdout"
        }
      ]
    },
    {
      "metadata": {
        "trusted": true
      },
      "cell_type": "code",
      "source": "for i in range(0,10):\n    print(i)\n    break",
      "execution_count": 17,
      "outputs": [
        {
          "output_type": "stream",
          "text": "0\n",
          "name": "stdout"
        }
      ]
    },
    {
      "metadata": {
        "trusted": true
      },
      "cell_type": "code",
      "source": "for i in range(0,10):\n    if i == 1:\n        continue\n    print(i)",
      "execution_count": 19,
      "outputs": [
        {
          "output_type": "stream",
          "text": "0\n2\n3\n4\n5\n6\n7\n8\n9\n",
          "name": "stdout"
        }
      ]
    },
    {
      "metadata": {
        "trusted": true
      },
      "cell_type": "code",
      "source": "for i in range(0,10):\n    if i == 1:\n        pass\n    else:\n        print(i)",
      "execution_count": 21,
      "outputs": [
        {
          "output_type": "stream",
          "text": "0\n2\n3\n4\n5\n6\n7\n8\n9\n",
          "name": "stdout"
        }
      ]
    },
    {
      "metadata": {
        "trusted": true
      },
      "cell_type": "code",
      "source": "",
      "execution_count": null,
      "outputs": []
    }
  ],
  "metadata": {
    "kernelspec": {
      "name": "python36",
      "display_name": "Python 3.6",
      "language": "python"
    },
    "language_info": {
      "mimetype": "text/x-python",
      "nbconvert_exporter": "python",
      "name": "python",
      "pygments_lexer": "ipython3",
      "version": "3.6.6",
      "file_extension": ".py",
      "codemirror_mode": {
        "version": 3,
        "name": "ipython"
      }
    }
  },
  "nbformat": 4,
  "nbformat_minor": 2
}