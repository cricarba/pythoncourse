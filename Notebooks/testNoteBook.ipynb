{
  "cells": [
    {
      "metadata": {
        "trusted": true
      },
      "cell_type": "code",
      "source": "!pip install pandas",
      "execution_count": 1,
      "outputs": [
        {
          "output_type": "stream",
          "text": "Requirement already satisfied: pandas in /home/nbuser/anaconda3_501/lib/python3.6/site-packages (0.23.4)\nRequirement already satisfied: numpy>=1.9.0 in /home/nbuser/anaconda3_501/lib/python3.6/site-packages (from pandas) (1.16.2)\nRequirement already satisfied: pytz>=2011k in /home/nbuser/anaconda3_501/lib/python3.6/site-packages (from pandas) (2019.3)\nRequirement already satisfied: python-dateutil>=2.5.0 in /home/nbuser/anaconda3_501/lib/python3.6/site-packages (from pandas) (2.8.1)\nRequirement already satisfied: six>=1.5 in /home/nbuser/anaconda3_501/lib/python3.6/site-packages (from python-dateutil>=2.5.0->pandas) (1.11.0)\n",
          "name": "stdout"
        }
      ]
    },
    {
      "metadata": {
        "trusted": true
      },
      "cell_type": "code",
      "source": "import pandas as pd",
      "execution_count": 3,
      "outputs": []
    },
    {
      "metadata": {
        "trusted": true
      },
      "cell_type": "code",
      "source": "log_data = pd.read_csv('data.csv')",
      "execution_count": 4,
      "outputs": []
    },
    {
      "metadata": {
        "trusted": true
      },
      "cell_type": "code",
      "source": "log_data.head()",
      "execution_count": 5,
      "outputs": [
        {
          "output_type": "execute_result",
          "execution_count": 5,
          "data": {
            "text/html": "<div>\n<style scoped>\n    .dataframe tbody tr th:only-of-type {\n        vertical-align: middle;\n    }\n\n    .dataframe tbody tr th {\n        vertical-align: top;\n    }\n\n    .dataframe thead th {\n        text-align: right;\n    }\n</style>\n<table border=\"1\" class=\"dataframe\">\n  <thead>\n    <tr style=\"text-align: right;\">\n      <th></th>\n      <th>Date</th>\n      <th>Open</th>\n      <th>High</th>\n      <th>Low</th>\n      <th>Close</th>\n      <th>Volume (BTC)</th>\n      <th>Volume (Currency)</th>\n      <th>Weighted Price</th>\n    </tr>\n  </thead>\n  <tbody>\n    <tr>\n      <th>0</th>\n      <td>2014-02-25</td>\n      <td>173.20000</td>\n      <td>173.84343</td>\n      <td>101.62872</td>\n      <td>135.00000</td>\n      <td>29886.753240</td>\n      <td>3.667985e+06</td>\n      <td>122.729470</td>\n    </tr>\n    <tr>\n      <th>1</th>\n      <td>2014-02-24</td>\n      <td>314.99996</td>\n      <td>316.78999</td>\n      <td>131.72093</td>\n      <td>173.87100</td>\n      <td>94594.022589</td>\n      <td>1.759053e+07</td>\n      <td>185.958167</td>\n    </tr>\n    <tr>\n      <th>2</th>\n      <td>2014-02-23</td>\n      <td>260.70495</td>\n      <td>348.98000</td>\n      <td>220.10000</td>\n      <td>309.99971</td>\n      <td>38395.103758</td>\n      <td>1.105177e+07</td>\n      <td>287.843300</td>\n    </tr>\n    <tr>\n      <th>3</th>\n      <td>2014-02-22</td>\n      <td>111.00000</td>\n      <td>290.52557</td>\n      <td>96.63450</td>\n      <td>255.53000</td>\n      <td>71861.288023</td>\n      <td>1.163297e+07</td>\n      <td>161.880903</td>\n    </tr>\n    <tr>\n      <th>4</th>\n      <td>2014-02-21</td>\n      <td>111.61995</td>\n      <td>160.00000</td>\n      <td>91.50000</td>\n      <td>111.40000</td>\n      <td>82102.929552</td>\n      <td>9.798283e+06</td>\n      <td>119.341450</td>\n    </tr>\n  </tbody>\n</table>\n</div>",
            "text/plain": "         Date       Open       High        Low      Close  Volume (BTC)  \\\n0  2014-02-25  173.20000  173.84343  101.62872  135.00000  29886.753240   \n1  2014-02-24  314.99996  316.78999  131.72093  173.87100  94594.022589   \n2  2014-02-23  260.70495  348.98000  220.10000  309.99971  38395.103758   \n3  2014-02-22  111.00000  290.52557   96.63450  255.53000  71861.288023   \n4  2014-02-21  111.61995  160.00000   91.50000  111.40000  82102.929552   \n\n   Volume (Currency)  Weighted Price  \n0       3.667985e+06      122.729470  \n1       1.759053e+07      185.958167  \n2       1.105177e+07      287.843300  \n3       1.163297e+07      161.880903  \n4       9.798283e+06      119.341450  "
          },
          "metadata": {}
        }
      ]
    },
    {
      "metadata": {
        "trusted": true
      },
      "cell_type": "code",
      "source": "",
      "execution_count": null,
      "outputs": []
    }
  ],
  "metadata": {
    "kernelspec": {
      "name": "python36",
      "display_name": "Python 3.6",
      "language": "python"
    },
    "language_info": {
      "mimetype": "text/x-python",
      "nbconvert_exporter": "python",
      "name": "python",
      "pygments_lexer": "ipython3",
      "version": "3.6.6",
      "file_extension": ".py",
      "codemirror_mode": {
        "version": 3,
        "name": "ipython"
      }
    }
  },
  "nbformat": 4,
  "nbformat_minor": 2
}